{
 "metadata": {
  "name": "",
  "signature": "sha256:b18e20fb1d3552b0f6e03134c0d8ec6ff00dfcdc065ffc8a93ca500b346bedfa"
 },
 "nbformat": 3,
 "nbformat_minor": 0,
 "worksheets": [
  {
   "cells": [
    {
     "cell_type": "code",
     "collapsed": false,
     "input": [
      "import os"
     ],
     "language": "python",
     "metadata": {},
     "outputs": [],
     "prompt_number": 33
    },
    {
     "cell_type": "code",
     "collapsed": false,
     "input": [
      "from IPython.display import display\n",
      "from IPython.display import Image"
     ],
     "language": "python",
     "metadata": {},
     "outputs": [],
     "prompt_number": 35
    },
    {
     "cell_type": "code",
     "collapsed": false,
     "input": [
      "from instagram.client import InstagramAPI\n",
      "client_id = os.getenv('INSTAGRAM_ID')\n",
      "client_secret = os.getenv('INSTAGRAM_SECRET')"
     ],
     "language": "python",
     "metadata": {},
     "outputs": [],
     "prompt_number": 2
    },
    {
     "cell_type": "code",
     "collapsed": false,
     "input": [
      "# print 'Using', client_id, client_secret"
     ],
     "language": "python",
     "metadata": {},
     "outputs": [],
     "prompt_number": 1
    },
    {
     "cell_type": "code",
     "collapsed": false,
     "input": [
      "michael_brown_shooting = dict(lat=38.7383, lng=-90.2736)"
     ],
     "language": "python",
     "metadata": {},
     "outputs": []
    },
    {
     "cell_type": "code",
     "collapsed": false,
     "input": [
      "api = InstagramAPI(client_id=client_id, client_secret=client_secret)"
     ],
     "language": "python",
     "metadata": {},
     "outputs": [],
     "prompt_number": 4
    },
    {
     "cell_type": "code",
     "collapsed": false,
     "input": [
      "popular_media = api.media_popular(count=20)\n",
      "for media in popular_media:\n",
      "    print media.images['standard_resolution'].url"
     ],
     "language": "python",
     "metadata": {},
     "outputs": []
    },
    {
     "cell_type": "code",
     "collapsed": false,
     "input": [
      "locations = api.location_search(lng=-90.2903, lat=38.7439)"
     ],
     "language": "python",
     "metadata": {},
     "outputs": [],
     "prompt_number": 13
    },
    {
     "cell_type": "code",
     "collapsed": false,
     "input": [
      "for location in locations:\n",
      "    print location.name, location"
     ],
     "language": "python",
     "metadata": {},
     "outputs": [
      {
       "output_type": "stream",
       "stream": "stdout",
       "text": [
        "Job #4 Location: 125982510 (Point: (38.7436455, -90.2906415))\n",
        "living room Location: 133256595 (Point: (38.74282074, -90.290626526))\n",
        "Study Hall Location: 37183956 (Point: (38.743273, -90.28854))\n",
        "Freguson Location: 374526172 (Point: (38.7447544, -90.2924748))\n",
        "In Myy Bed Location: 372114072 (Point: (38.7449227, -90.2923542))\n",
        "At Home Location: 372307932 (Point: (38.745048284, -90.292361477))\n",
        "living room Location: 20941399 (Point: (38.742652158, -90.287105519))\n",
        "The Boom Boom Room Location: 19852568 (Point: (38.741688808, -90.294037761))\n",
        "Nantucket Gardens Apartment Location: 74344200 (Point: (38.747593818, -90.292106152))\n",
        "Ferguson Sports Park Location: 88788924 (Point: (38.747607974, -90.292188737))\n",
        "Mikes Grill Location: 98513574 (Point: (38.74732554, -90.293406844))\n",
        "Fire Pit Location: 67654468 (Point: (38.740077972, -90.288078308))\n",
        "Christian Care Home Location: 27043779 (Point: (38.747432828, -90.293374658))\n",
        "Christian Care Home Location: 331794120 (Point: (38.747700843, -90.29324877))\n",
        "Forrestwood Park Location: 323245339 (Point: (38.7394869, -90.288139313))\n"
       ]
      }
     ],
     "prompt_number": 15
    },
    {
     "cell_type": "code",
     "collapsed": false,
     "input": [
      "popular_media = api.media_popular()"
     ],
     "language": "python",
     "metadata": {},
     "outputs": [],
     "prompt_number": 38
    },
    {
     "cell_type": "code",
     "collapsed": false,
     "input": [
      "def show_media(item):\n",
      "    image = item.images['low_resolution']\n",
      "    display(Image(image.url))\n",
      "    print item.caption\n",
      "    print 'lng,lat', item.location.point.longitude, item.location.point.latitude"
     ],
     "language": "python",
     "metadata": {},
     "outputs": [],
     "prompt_number": 50
    },
    {
     "cell_type": "code",
     "collapsed": false,
     "input": [
      "# for item in popular_media[:10]:\n",
      "#     print show_media(item)"
     ],
     "language": "python",
     "metadata": {},
     "outputs": [],
     "prompt_number": 54
    },
    {
     "cell_type": "code",
     "collapsed": false,
     "input": [
      "# for item in api.media_search(lng=-90.2736, lat=38.7383, distance=5000):\n",
      "#     print show_media(item)"
     ],
     "language": "python",
     "metadata": {},
     "outputs": [],
     "prompt_number": 2
    },
    {
     "cell_type": "code",
     "collapsed": false,
     "input": [
      "image = item.images['low_resolution']"
     ],
     "language": "python",
     "metadata": {},
     "outputs": [],
     "prompt_number": 31
    }
   ],
   "metadata": {}
  }
 ]
}