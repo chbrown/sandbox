{
 "metadata": {
  "name": "",
  "signature": "sha256:97082180d85a71c3a9f6f498988b4964269582548a5a8c22b2221a59a520b4eb"
 },
 "nbformat": 3,
 "nbformat_minor": 0,
 "worksheets": [
  {
   "cells": [
    {
     "cell_type": "code",
     "collapsed": false,
     "input": [
      "import os\n",
      "import json"
     ],
     "language": "python",
     "metadata": {},
     "outputs": [],
     "prompt_number": 1
    },
    {
     "cell_type": "code",
     "collapsed": false,
     "input": [
      "from ScriptingBridge import SBApplication\n",
      "iTunes = SBApplication.applicationWithBundleIdentifier_(\"com.apple.iTunes\")"
     ],
     "language": "python",
     "metadata": {},
     "outputs": [],
     "prompt_number": 2
    },
    {
     "cell_type": "markdown",
     "metadata": {},
     "source": [
      "## Helpers"
     ]
    },
    {
     "cell_type": "code",
     "collapsed": false,
     "input": [
      "def encode(obj):\n",
      "    if obj is not None and not isinstance(obj, (int, basestring, float)):\n",
      "        obj = unicode(obj)\n",
      "    return obj"
     ],
     "language": "python",
     "metadata": {},
     "outputs": [],
     "prompt_number": 3
    },
    {
     "cell_type": "code",
     "collapsed": false,
     "input": [
      "def mkdir_p(dirpath):\n",
      "    if not os.path.exists(dirpath):\n",
      "        os.makedirs(dirpath)\n",
      "    return dirpath"
     ],
     "language": "python",
     "metadata": {},
     "outputs": [],
     "prompt_number": 4
    },
    {
     "cell_type": "code",
     "collapsed": false,
     "input": [
      "def clean_filename(filename):\n",
      "    return filename.replace('/', '-').replace(':', '-').replace('&', ' and ').replace('  ', ' ')"
     ],
     "language": "python",
     "metadata": {},
     "outputs": [],
     "prompt_number": 5
    },
    {
     "cell_type": "code",
     "collapsed": false,
     "input": [
      "def track_json(track):\n",
      "    keys = [\n",
      "        'album',\n",
      "        'albumArtist',\n",
      "        'artist',\n",
      "        'bitRate',\n",
      "        'dateAdded',\n",
      "        'duration',\n",
      "        'modificationDate',\n",
      "        'name',\n",
      "        'time',\n",
      "        'size',\n",
      "        'year',\n",
      "        'playedCount',\n",
      "        'playedDate',\n",
      "        'skippedCount',\n",
      "        'skippedDate',\n",
      "        'rating',\n",
      "    ]\n",
      "    return {key: value for key, value in track.properties().items() if key in keys}    "
     ],
     "language": "python",
     "metadata": {},
     "outputs": [],
     "prompt_number": 6
    },
    {
     "cell_type": "code",
     "collapsed": false,
     "input": [
      "def serialize_playlist(playlist, dirpath):\n",
      "    name = playlist.name()\n",
      "    tracks = [track_json(track) for track in playlist.tracks()]\n",
      "\n",
      "    mkdir_p(dirpath)\n",
      "    filepath = os.path.join(dirpath, clean_filename(name + '.json'))\n",
      "    with open(filepath, 'w') as fp:\n",
      "        json.dump(tracks, fp, indent=2, default=encode)"
     ],
     "language": "python",
     "metadata": {},
     "outputs": [],
     "prompt_number": 7
    },
    {
     "cell_type": "code",
     "collapsed": false,
     "input": [
      "def serialize_source(source, root='/Users/chbrown/Desktop'):\n",
      "    print 'Source', source.name()\n",
      "    dirname = clean_filename(source.name())\n",
      "    dirpath = os.path.join(root, dirname)\n",
      "    for playlist in source.playlists():\n",
      "        print 'Playlist', playlist.name()\n",
      "        serialize_playlist(playlist, dirpath)"
     ],
     "language": "python",
     "metadata": {},
     "outputs": [],
     "prompt_number": 9
    },
    {
     "cell_type": "markdown",
     "metadata": {},
     "source": [
      "## Logic"
     ]
    },
    {
     "cell_type": "code",
     "collapsed": false,
     "input": [
      "sources = iTunes.sources()\n",
      "for source in sources:\n",
      "    print source.name()"
     ],
     "language": "python",
     "metadata": {},
     "outputs": [
      {
       "output_type": "stream",
       "stream": "stdout",
       "text": [
        "Library\n"
       ]
      }
     ],
     "prompt_number": 11
    },
    {
     "cell_type": "code",
     "collapsed": false,
     "input": [
      "source = sources[0]"
     ],
     "language": "python",
     "metadata": {},
     "outputs": [],
     "prompt_number": 12
    },
    {
     "cell_type": "code",
     "collapsed": false,
     "input": [
      "serialize_source(source)"
     ],
     "language": "python",
     "metadata": {},
     "outputs": [
      {
       "output_type": "stream",
       "stream": "stdout",
       "text": [
        "Source Library\n",
        "Playlist Library\n",
        "Playlist"
       ]
      },
      {
       "output_type": "stream",
       "stream": "stdout",
       "text": [
        " Music\n",
        "Playlist"
       ]
      },
      {
       "output_type": "stream",
       "stream": "stdout",
       "text": [
        " Movies\n",
        "Playlist Podcasts\n",
        "Playlist Audiobooks\n",
        "Playlist Purchased\n",
        "Playlist Last month\n",
        "Playlist Last week\n",
        "Playlist Unplayed Books\n",
        "Playlist Cheltz Dog - Music\n",
        "Playlist"
       ]
      },
      {
       "output_type": "stream",
       "stream": "stdout",
       "text": [
        " Lectures & Podcasts\n",
        "Playlist Voice Memos\n"
       ]
      }
     ],
     "prompt_number": 13
    },
    {
     "cell_type": "code",
     "collapsed": false,
     "input": [
      "# track_json(track)\n",
      "# inspector.dump(track)"
     ],
     "language": "python",
     "metadata": {},
     "outputs": [],
     "prompt_number": 69
    }
   ],
   "metadata": {}
  }
 ]
}