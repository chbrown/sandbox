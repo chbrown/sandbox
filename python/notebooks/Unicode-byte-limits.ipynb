{
 "metadata": {
  "name": "",
  "signature": "sha256:c7bd94dbfceacdba190a0d72072c873b9bc3ba6afa50bf0e64c342890ee104d0"
 },
 "nbformat": 3,
 "nbformat_minor": 0,
 "worksheets": [
  {
   "cells": [
    {
     "cell_type": "markdown",
     "metadata": {},
     "source": [
      "## Unicode byte limits\n",
      "\n",
      "Why? Isn't UTF-8 good enough as-is?\n",
      "\n",
      "Apparently not. I'm looking at you, Amazon Mechanical Turk. MTurk supports only a subset of UTF-8, a subset that does excludes characters longer than 3 bytes. How convenient.\n",
      "\n",
      "Python has no concept of runes, as Golang calls them, so to process a Unicode string character-by-character, we must convert to bytes and consult the UTF-8 specification.\n",
      "\n",
      "Not particularly fun, but it works."
     ]
    },
    {
     "cell_type": "code",
     "collapsed": false,
     "input": [
      "import os\n",
      "import csv\n",
      "import unicodedata \n",
      "import re"
     ],
     "language": "python",
     "metadata": {},
     "outputs": [],
     "prompt_number": 1
    },
    {
     "cell_type": "code",
     "collapsed": false,
     "input": [
      "def bytes_in_sequence(byte):\n",
      "    if byte >= 0b11111100:\n",
      "        return 6\n",
      "    elif byte >= 0b11111000:\n",
      "        return 5\n",
      "    elif byte >= 0b11110000:\n",
      "        return 4\n",
      "    elif byte >= 0b11100000:\n",
      "        return 3\n",
      "    elif byte >= 0b11000000:\n",
      "        return 2\n",
      "    else:\n",
      "        return 1"
     ],
     "language": "python",
     "metadata": {},
     "outputs": [],
     "prompt_number": 9
    },
    {
     "cell_type": "code",
     "collapsed": false,
     "input": [
      "def bitfilter(char_iter, maxbytes):\n",
      "    '''\n",
      "    From http://en.wikipedia.org/wiki/UTF-8\n",
      "    \n",
      "    bits of code point ; bytes in sequence ; byte 1\n",
      "     7 1  0xxxxxxx\n",
      "    11 2  110xxxxx\n",
      "    16 3  1110xxxx\n",
      "    21 4  11110xxx\n",
      "    26 5  111110xx\n",
      "    31 6  1111110x\n",
      "    '''\n",
      "    while True:\n",
      "        char = char_iter.next()\n",
      "        seq_length = bytes_in_sequence(ord(char))\n",
      "        if seq_length > maxbytes:\n",
      "            # don't presume that unicode characters have a max 32-bit (4-byte) length\n",
      "            for _ in range(1, seq_length):\n",
      "                char_iter.next()\n",
      "        else:\n",
      "            yield char"
     ],
     "language": "python",
     "metadata": {},
     "outputs": [],
     "prompt_number": 3
    },
    {
     "cell_type": "code",
     "collapsed": false,
     "input": [
      "def simplify(text_unicode, maxbytes):\n",
      "    '''\n",
      "    Input should be unicode, output will be unicode,\n",
      "    but it will translate to UTF-8 in the process.\n",
      "    '''\n",
      "    text_bytes = text_unicode.encode('utf-8')\n",
      "    text_iter = iter(text_bytes)\n",
      "    filtered_bytes_iter = bitfilter(text_iter, maxbytes)\n",
      "    return ''.join(filtered_bytes_iter).decode('utf-8')"
     ],
     "language": "python",
     "metadata": {},
     "outputs": [],
     "prompt_number": 10
    },
    {
     "cell_type": "heading",
     "level": 2,
     "metadata": {},
     "source": [
      "Convert file"
     ]
    },
    {
     "cell_type": "code",
     "collapsed": false,
     "input": [
      "input_filepath = 'fancy_emoji.txt'\n",
      "output_filepath = 'impoverished_emoji.txt'"
     ],
     "language": "python",
     "metadata": {},
     "outputs": [],
     "prompt_number": 6
    },
    {
     "cell_type": "code",
     "collapsed": false,
     "input": [
      "input_file_contents = open(input_filepath).read()\n",
      "input_file_contents_u = input_file_contents.decode('utf8')"
     ],
     "language": "python",
     "metadata": {},
     "outputs": [
      {
       "ename": "IOError",
       "evalue": "[Errno 2] No such file or directory: 'fancy_emoji.txt'",
       "output_type": "pyerr",
       "traceback": [
        "\u001b[0;31m---------------------------------------------------------------------------\u001b[0m\n\u001b[0;31mIOError\u001b[0m                                   Traceback (most recent call last)",
        "\u001b[0;32m<ipython-input-12-e92359c0dfb2>\u001b[0m in \u001b[0;36m<module>\u001b[0;34m()\u001b[0m\n\u001b[0;32m----> 1\u001b[0;31m \u001b[0minput_file_contents\u001b[0m \u001b[0;34m=\u001b[0m \u001b[0mopen\u001b[0m\u001b[0;34m(\u001b[0m\u001b[0minput_filepath\u001b[0m\u001b[0;34m)\u001b[0m\u001b[0;34m.\u001b[0m\u001b[0mread\u001b[0m\u001b[0;34m(\u001b[0m\u001b[0;34m)\u001b[0m\u001b[0;34m\u001b[0m\u001b[0m\n\u001b[0m\u001b[1;32m      2\u001b[0m \u001b[0minput_file_contents_u\u001b[0m \u001b[0;34m=\u001b[0m \u001b[0minput_file_contents\u001b[0m\u001b[0;34m.\u001b[0m\u001b[0mdecode\u001b[0m\u001b[0;34m(\u001b[0m\u001b[0;34m'utf8'\u001b[0m\u001b[0;34m)\u001b[0m\u001b[0;34m\u001b[0m\u001b[0m\n",
        "\u001b[0;31mIOError\u001b[0m: [Errno 2] No such file or directory: 'fancy_emoji.txt'"
       ]
      }
     ],
     "prompt_number": 12
    },
    {
     "cell_type": "code",
     "collapsed": false,
     "input": [
      "simplified_contents_u = simplify(input_file_contents_u)\n",
      "simplified_contents = simplified_contents_u.encode('utf8')"
     ],
     "language": "python",
     "metadata": {},
     "outputs": [
      {
       "ename": "NameError",
       "evalue": "name 'input_file_contents_u' is not defined",
       "output_type": "pyerr",
       "traceback": [
        "\u001b[0;31m---------------------------------------------------------------------------\u001b[0m\n\u001b[0;31mNameError\u001b[0m                                 Traceback (most recent call last)",
        "\u001b[0;32m<ipython-input-13-cf9521f44def>\u001b[0m in \u001b[0;36m<module>\u001b[0;34m()\u001b[0m\n\u001b[0;32m----> 1\u001b[0;31m \u001b[0msimplified_contents_u\u001b[0m \u001b[0;34m=\u001b[0m \u001b[0msimplify\u001b[0m\u001b[0;34m(\u001b[0m\u001b[0minput_file_contents_u\u001b[0m\u001b[0;34m)\u001b[0m\u001b[0;34m\u001b[0m\u001b[0m\n\u001b[0m\u001b[1;32m      2\u001b[0m \u001b[0msimplified_contents\u001b[0m \u001b[0;34m=\u001b[0m \u001b[0msimplified_contents_u\u001b[0m\u001b[0;34m.\u001b[0m\u001b[0mencode\u001b[0m\u001b[0;34m(\u001b[0m\u001b[0;34m'utf8'\u001b[0m\u001b[0;34m)\u001b[0m\u001b[0;34m\u001b[0m\u001b[0m\n",
        "\u001b[0;31mNameError\u001b[0m: name 'input_file_contents_u' is not defined"
       ]
      }
     ],
     "prompt_number": 13
    },
    {
     "cell_type": "code",
     "collapsed": false,
     "input": [
      "with open(csv_filepath, 'wb') as fp:\n",
      "    writer = csv.DictWriter(fp, fieldnames=('dev-1k-id', 'text'))\n",
      "    writer.writeheader()\n",
      "    for index, text in enumerate(simplified_contents.split('\\n'), 1):\n",
      "        writer.writerow({'dev-1k-id': index, 'text': text})"
     ],
     "language": "python",
     "metadata": {},
     "outputs": [],
     "prompt_number": 115
    },
    {
     "cell_type": "heading",
     "level": 2,
     "metadata": {},
     "source": [
      "Debugging functions"
     ]
    },
    {
     "cell_type": "code",
     "collapsed": false,
     "input": [
      "def chars(s):\n",
      "    for i, ch in enumerate(s):\n",
      "        print i, repr(ch)"
     ],
     "language": "python",
     "metadata": {},
     "outputs": [],
     "prompt_number": 14
    },
    {
     "cell_type": "code",
     "collapsed": false,
     "input": [
      "def string_report(s):\n",
      "    for form in ['NFC', 'NFKC', 'NFD', 'NFKD']:\n",
      "        form, repr(unicodedata.normalize(form, s))\n",
      "    for encoding in ['utf_16', 'utf_8', 'ascii', 'latin_1', 'utf_32', 'utf_8_sig']:\n",
      "        encoding, repr(b4.encode(encoding, 'ignore').decode(encoding))"
     ],
     "language": "python",
     "metadata": {},
     "outputs": [
      {
       "output_type": "stream",
       "stream": "stdout",
       "text": [
        "utf_16 u'!!! \\U0001f497\\U0001f495 PLEA'\n",
        "utf_8 u'!!! \\U0001f497\\U0001f495 PLEA'\n",
        "ascii u'!!!  PLEA'\n",
        "latin_1 u'!!!  PLEA'\n",
        "utf_32 u'!!! \\U0001f497\\U0001f495 PLEA'\n",
        "utf_8_sig u'!!! \\U0001f497\\U0001f495 PLEA'\n"
       ]
      }
     ],
     "prompt_number": 31
    }
   ],
   "metadata": {}
  }
 ]
}