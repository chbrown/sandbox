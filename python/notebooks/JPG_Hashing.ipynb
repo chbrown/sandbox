{
 "metadata": {
  "name": "",
  "signature": "sha256:09390b0035ef1cf526d8df1ec39c913eefa9430d682f82e54cc045ded36cb7ed"
 },
 "nbformat": 3,
 "nbformat_minor": 0,
 "worksheets": [
  {
   "cells": [
    {
     "cell_type": "code",
     "collapsed": false,
     "input": [
      "import os\n",
      "import itertools\n",
      "from PIL import Image\n",
      "import hashlib\n",
      "import mmh3"
     ],
     "language": "python",
     "metadata": {},
     "outputs": [],
     "prompt_number": 1
    },
    {
     "cell_type": "code",
     "collapsed": false,
     "input": [
      "def iter_image_bytes(filepath):\n",
      "    #image_bytes = bytearray(iter_image_bytes(jpeg_filepath))\n",
      "    image = Image.open(filepath)\n",
      "    for r, g, b in image.getdata():\n",
      "        yield r\n",
      "        yield g\n",
      "        yield b"
     ],
     "language": "python",
     "metadata": {},
     "outputs": [],
     "prompt_number": 15
    },
    {
     "cell_type": "code",
     "collapsed": false,
     "input": [
      "def hash_jpeg(jpeg_filepath):\n",
      "    jpeg = Image.open(jpeg_filepath)\n",
      "    image_bytes = jpeg.tostring()\n",
      "    md5sum = hashlib.md5()\n",
      "    md5sum.update(image_bytes)\n",
      "    return md5sum.hexdigest()"
     ],
     "language": "python",
     "metadata": {},
     "outputs": [],
     "prompt_number": 16
    },
    {
     "cell_type": "code",
     "collapsed": false,
     "input": [
      "def hash_jpeg_2(jpeg_filepath):\n",
      "\n",
      "    image_bytes = bytearray(iter_image_bytes(jpeg_filepath))\n",
      "    mmh3.hash()\n",
      "    md5sum.update(image_bytes)\n",
      "    return md5sum.hexdigest()"
     ],
     "language": "python",
     "metadata": {},
     "outputs": []
    },
    {
     "cell_type": "code",
     "collapsed": false,
     "input": [
      "local_directory = '/Users/chbrown/Desktop/iPhone/100APPLE'\n",
      "local_filepaths = [os.path.join(local_directory, filename)\n",
      "                   for filename in os.listdir(local_directory)\n",
      "                   if filename.lower().endswith('jpg')]"
     ],
     "language": "python",
     "metadata": {},
     "outputs": [],
     "prompt_number": 4
    },
    {
     "cell_type": "code",
     "collapsed": false,
     "input": [
      "hash_jpeg('/Users/chbrown/Desktop/2014-03-28 15.50.56.jpg')"
     ],
     "language": "python",
     "metadata": {},
     "outputs": [
      {
       "metadata": {},
       "output_type": "pyout",
       "prompt_number": 17,
       "text": [
        "'49e23c859c7a276764d370c0632d07ab'"
       ]
      }
     ],
     "prompt_number": 17
    },
    {
     "cell_type": "code",
     "collapsed": false,
     "input": [
      "hash_jpeg('/Users/chbrown/Desktop/IMG_1278.JPG')"
     ],
     "language": "python",
     "metadata": {},
     "outputs": [
      {
       "metadata": {},
       "output_type": "pyout",
       "prompt_number": 18,
       "text": [
        "'5d0e1d753c43ccbb0badce1a3c082dc6'"
       ]
      }
     ],
     "prompt_number": 18
    },
    {
     "cell_type": "code",
     "collapsed": false,
     "input": [
      "hash_jpeg(local_filepaths[8])"
     ],
     "language": "python",
     "metadata": {},
     "outputs": [
      {
       "metadata": {},
       "output_type": "pyout",
       "prompt_number": 14,
       "text": [
        "'c17f4d25d1bc00919acd76d87a15c722'"
       ]
      }
     ],
     "prompt_number": 14
    },
    {
     "cell_type": "code",
     "collapsed": false,
     "input": [
      "jpeg_filepath = local_filepaths[2]\n",
      "byte_iter = iter_image_bytes(jpeg_filepath)\n",
      "byte_arr = bytearray(byte_iter)"
     ],
     "language": "python",
     "metadata": {},
     "outputs": [],
     "prompt_number": 6
    },
    {
     "cell_type": "code",
     "collapsed": false,
     "input": [
      "pixels = jpeg.load()"
     ],
     "language": "python",
     "metadata": {},
     "outputs": [],
     "prompt_number": 8
    },
    {
     "cell_type": "code",
     "collapsed": false,
     "input": [
      "jpeg.size"
     ],
     "language": "python",
     "metadata": {},
     "outputs": [
      {
       "metadata": {},
       "output_type": "pyout",
       "prompt_number": 11,
       "text": [
        "(3264, 2448)"
       ]
      }
     ],
     "prompt_number": 11
    },
    {
     "cell_type": "code",
     "collapsed": false,
     "input": [
      "[pixel for pixel in pixels]"
     ],
     "language": "python",
     "metadata": {},
     "outputs": [
      {
       "ename": "TypeError",
       "evalue": "'PixelAccess' object is not iterable",
       "output_type": "pyerr",
       "traceback": [
        "\u001b[0;31m---------------------------------------------------------------------------\u001b[0m\n\u001b[0;31mTypeError\u001b[0m                                 Traceback (most recent call last)",
        "\u001b[0;32m<ipython-input-14-f90bf3609204>\u001b[0m in \u001b[0;36m<module>\u001b[0;34m()\u001b[0m\n\u001b[0;32m----> 1\u001b[0;31m \u001b[0;34m[\u001b[0m\u001b[0mpixel\u001b[0m \u001b[0;32mfor\u001b[0m \u001b[0mpixel\u001b[0m \u001b[0;32min\u001b[0m \u001b[0mpixels\u001b[0m\u001b[0;34m]\u001b[0m\u001b[0;34m\u001b[0m\u001b[0m\n\u001b[0m",
        "\u001b[0;31mTypeError\u001b[0m: 'PixelAccess' object is not iterable"
       ]
      }
     ],
     "prompt_number": 14
    },
    {
     "cell_type": "code",
     "collapsed": false,
     "input": [
      "pixels"
     ],
     "language": "python",
     "metadata": {},
     "outputs": [],
     "prompt_number": 22
    },
    {
     "cell_type": "code",
     "collapsed": false,
     "input": [],
     "language": "python",
     "metadata": {},
     "outputs": []
    }
   ],
   "metadata": {}
  }
 ]
}