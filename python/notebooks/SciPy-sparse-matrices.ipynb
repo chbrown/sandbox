{
 "metadata": {
  "name": "",
  "signature": "sha256:2062cfe1c5dd04f5f714de7322b8352bd4b8b4e89903e325e085fee1ddd9d969"
 },
 "nbformat": 3,
 "nbformat_minor": 0,
 "worksheets": [
  {
   "cells": [
    {
     "cell_type": "code",
     "collapsed": false,
     "input": [
      "import scipy.sparse\n",
      "from scipy import array"
     ],
     "language": "python",
     "metadata": {},
     "outputs": [],
     "prompt_number": 5
    },
    {
     "cell_type": "code",
     "collapsed": false,
     "input": [
      "scipy.sparse.csr_matrix?"
     ],
     "language": "python",
     "metadata": {},
     "outputs": [],
     "prompt_number": 3
    },
    {
     "cell_type": "code",
     "collapsed": false,
     "input": [
      "indptr = array([0,2,3,6])\n",
      "# this says that, in indices,\n",
      "#                |--| go in row 1 \n",
      "#                     |-| go in row 2\n",
      "#                         |-----| go in row 3\n",
      "# indptr could also be expressed as something like:\n",
      "#                0  0  1  2  2  2\n",
      "indices = array([0, 2, 2, 0, 1, 2])\n",
      "data = array([1,2,3,4,5,6])\n",
      "mat = scipy.sparse.csr_matrix((data, indices, indptr), shape=(3,3) )\n",
      "# column indices for row i are stored in indices[indptr[i]:indptr[i+1]]\n",
      "for row_i in range(3):\n",
      "    print 'row_i', row_i, 'col_index', indices[indptr[row_i]:indptr[row_i+1]], '(', indptr[row_i], '..', indptr[row_i+1], ')'\n",
      "# and their corresponding values are stored in data[indptr[i]:indptr[i+1]].\n",
      "# If the shape parameter is not supplied, the matrix dimensions are inferred from the index arrays."
     ],
     "language": "python",
     "metadata": {},
     "outputs": [
      {
       "output_type": "stream",
       "stream": "stdout",
       "text": [
        "row_i 0 col_index [0 2] ( 0 .. 2 )\n",
        "row_i 1 col_index [2] ( 2 .. 3 )\n",
        "row_i 2 col_index [0 1 2] ( 3 .. 6 )\n"
       ]
      }
     ],
     "prompt_number": 15
    },
    {
     "cell_type": "code",
     "collapsed": false,
     "input": [
      "mat.todense()"
     ],
     "language": "python",
     "metadata": {},
     "outputs": [
      {
       "metadata": {},
       "output_type": "pyout",
       "prompt_number": 12,
       "text": [
        "matrix([[1, 0, 2],\n",
        "        [0, 0, 3],\n",
        "        [4, 5, 6]])"
       ]
      }
     ],
     "prompt_number": 12
    },
    {
     "cell_type": "code",
     "collapsed": false,
     "input": [],
     "language": "python",
     "metadata": {},
     "outputs": []
    }
   ],
   "metadata": {}
  }
 ]
}