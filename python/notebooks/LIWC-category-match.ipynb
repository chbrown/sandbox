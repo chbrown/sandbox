{
 "metadata": {
  "name": "",
  "signature": "sha256:18f1c27a8bf4aafdc1bd2ebc5f7741fcf1a646588c74d0585a162b51f91c45b8"
 },
 "nbformat": 3,
 "nbformat_minor": 0,
 "worksheets": [
  {
   "cells": [
    {
     "cell_type": "code",
     "collapsed": false,
     "input": [
      "import itertools\n",
      "import json"
     ],
     "language": "python",
     "metadata": {},
     "outputs": [],
     "prompt_number": 36
    },
    {
     "cell_type": "code",
     "collapsed": false,
     "input": [
      "liwc_fd = open('/usr/local/data/liwc_2007.csv')"
     ],
     "language": "python",
     "metadata": {},
     "outputs": [],
     "prompt_number": 1
    },
    {
     "cell_type": "code",
     "collapsed": false,
     "input": [
      "liwc_lines = liwc_fd.readlines()"
     ],
     "language": "python",
     "metadata": {},
     "outputs": [],
     "prompt_number": 2
    },
    {
     "cell_type": "code",
     "collapsed": false,
     "input": [
      "liwc_lines[-3:]"
     ],
     "language": "python",
     "metadata": {},
     "outputs": [
      {
       "metadata": {},
       "output_type": "pyout",
       "prompt_number": 28,
       "text": [
        "['bottom*\\tspace,relativ\\n',\n",
        " 'revenge*\\tanger,negemo,affect\\n',\n",
        " 'tast*\\tingest,percept,bio\\n']"
       ]
      }
     ],
     "prompt_number": 28
    },
    {
     "cell_type": "code",
     "collapsed": false,
     "input": [
      "def iter_matches(category):\n",
      "    for line in liwc_lines:\n",
      "        match, categories_csv = line.split('\\t', 1)\n",
      "        categories = categories_csv.split(',')\n",
      "        if category in categories:\n",
      "            yield match"
     ],
     "language": "python",
     "metadata": {},
     "outputs": [],
     "prompt_number": 30
    },
    {
     "cell_type": "code",
     "collapsed": false,
     "input": [
      "categories = ['posemo', 'negemo']\n",
      "for category in categories:\n",
      "    print len(list(iter_matches(category))), category, 'matches'"
     ],
     "language": "python",
     "metadata": {},
     "outputs": [
      {
       "output_type": "stream",
       "stream": "stdout",
       "text": [
        "406 posemo matches\n",
        "495 negemo matches\n"
       ]
      }
     ],
     "prompt_number": 38
    },
    {
     "cell_type": "markdown",
     "metadata": {},
     "source": [
      "## Results\n",
      "\n",
      "Commenting these out so that LIWC does not get pushed up to GitHub"
     ]
    },
    {
     "cell_type": "code",
     "collapsed": false,
     "input": [
      "liwc_json = {category: sorted(list(iter_matches(category))) for category in categories}\n",
      "# print json.dumps(liwc_json)"
     ],
     "language": "python",
     "metadata": {},
     "outputs": [],
     "prompt_number": 43
    }
   ],
   "metadata": {}
  }
 ]
}