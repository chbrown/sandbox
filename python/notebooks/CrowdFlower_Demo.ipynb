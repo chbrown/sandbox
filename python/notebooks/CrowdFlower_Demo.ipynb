{
 "metadata": {
  "name": "",
  "signature": "sha256:8c5500897245b90f5d251f4f7909eea73190db27f8312ef153b531ee4ddb6058"
 },
 "nbformat": 3,
 "nbformat_minor": 0,
 "worksheets": [
  {
   "cells": [
    {
     "cell_type": "code",
     "collapsed": false,
     "input": [
      "import os\n",
      "os.chdir('/Users/chbrown/github/crowdflower/examples')"
     ],
     "language": "python",
     "metadata": {},
     "outputs": [],
     "prompt_number": 1
    },
    {
     "cell_type": "code",
     "collapsed": false,
     "input": [
      "import crowdflower\n",
      "conn = crowdflower.Connection()"
     ],
     "language": "python",
     "metadata": {},
     "outputs": [],
     "prompt_number": 38
    },
    {
     "cell_type": "code",
     "collapsed": false,
     "input": [
      "def iter_data(filename='spam.txt', labels=None):\n",
      "    for i, line in enumerate(open(filename), 1):\n",
      "        label, text = line.strip().split('\\t', 1)\n",
      "        if labels is None or label in labels:\n",
      "            yield {'id': '{}:{}'.format(filename, i), 'text': text, 'label': label}"
     ],
     "language": "python",
     "metadata": {},
     "outputs": [],
     "prompt_number": 29
    },
    {
     "cell_type": "code",
     "collapsed": false,
     "input": [
      "ham_data = list(iter_data(labels=['ham']))\n",
      "spam_data = list(iter_data(labels=['spam']))"
     ],
     "language": "python",
     "metadata": {},
     "outputs": [],
     "prompt_number": 30
    },
    {
     "cell_type": "code",
     "collapsed": false,
     "input": [
      "# for gold data, get 25 of each class\n",
      "gold_data = ham_data[:25] + spam_data[:25]\n",
      "# add the spam_gold key (to trigger)\n",
      "for datum in gold_data:\n",
      "    datum['spam_gold'] = datum['label']"
     ],
     "language": "python",
     "metadata": {},
     "outputs": [],
     "prompt_number": 31
    },
    {
     "cell_type": "code",
     "collapsed": false,
     "input": [
      "# for real data, get 100 of each class, and rename the special 'spam_gold' field\n",
      "test_data = ham_data[25:][:100] + spam_data[25:][:100]"
     ],
     "language": "python",
     "metadata": {},
     "outputs": [],
     "prompt_number": 37
    },
    {
     "cell_type": "code",
     "collapsed": false,
     "input": [
      "job = conn.upload(gold_data + test_data)"
     ],
     "language": "python",
     "metadata": {},
     "outputs": []
    },
    {
     "cell_type": "code",
     "collapsed": false,
     "input": [
      "job_update_result = job.update({\n",
      "    'title': 'Spam detection',\n",
      "    'max_judgments_per_worker': 50,\n",
      "    'units_per_assignment': 10,\n",
      "    'judgments_per_unit': 2,\n",
      "    'payment_cents': 10,\n",
      "    'instructions': '''\n",
      "        <h3>Spam detection</h3>\n",
      "        <p>Judge whether these text messages are spam or not.</p>\n",
      "    ''',\n",
      "    'cml': '''\n",
      "        {{text}}\n",
      "        <cml:radios label=\"spam\" validates=\"required\" gold=\"true\">\n",
      "            <cml:radio label=\"Spam\" value=\"spam\"></cml:radio>\n",
      "            <cml:radio label=\"Not spam\" value=\"ham\"></cml:radio>\n",
      "        </cml:radios>\n",
      "    ''',\n",
      "    'options': {\n",
      "        'front_load': 1, # quiz mode = 1; turn off with 0\n",
      "    }\n",
      "})\n",
      "# print job_update_result"
     ],
     "language": "python",
     "metadata": {},
     "outputs": [
      {
       "ename": "NameError",
       "evalue": "name 'job' is not defined",
       "output_type": "pyerr",
       "traceback": [
        "\u001b[0;31m---------------------------------------------------------------------------\u001b[0m\n\u001b[0;31mNameError\u001b[0m                                 Traceback (most recent call last)",
        "\u001b[0;32m<ipython-input-2-e0a2864b68e4>\u001b[0m in \u001b[0;36m<module>\u001b[0;34m()\u001b[0m\n\u001b[0;32m----> 1\u001b[0;31m job_update_result = job.update({\n\u001b[0m\u001b[1;32m      2\u001b[0m     \u001b[0;34m'title'\u001b[0m\u001b[0;34m:\u001b[0m \u001b[0;34m'Spam detection'\u001b[0m\u001b[0;34m,\u001b[0m\u001b[0;34m\u001b[0m\u001b[0m\n\u001b[1;32m      3\u001b[0m     \u001b[0;34m'max_judgments_per_worker'\u001b[0m\u001b[0;34m:\u001b[0m \u001b[0;36m50\u001b[0m\u001b[0;34m,\u001b[0m\u001b[0;34m\u001b[0m\u001b[0m\n\u001b[1;32m      4\u001b[0m     \u001b[0;34m'units_per_assignment'\u001b[0m\u001b[0;34m:\u001b[0m \u001b[0;36m10\u001b[0m\u001b[0;34m,\u001b[0m\u001b[0;34m\u001b[0m\u001b[0m\n\u001b[1;32m      5\u001b[0m     \u001b[0;34m'judgments_per_unit'\u001b[0m\u001b[0;34m:\u001b[0m \u001b[0;36m2\u001b[0m\u001b[0;34m,\u001b[0m\u001b[0;34m\u001b[0m\u001b[0m\n",
        "\u001b[0;31mNameError\u001b[0m: name 'job' is not defined"
       ]
      }
     ],
     "prompt_number": 2
    },
    {
     "cell_type": "code",
     "collapsed": false,
     "input": [
      "job.gold_add('spam', 'spam_gold')"
     ],
     "language": "python",
     "metadata": {},
     "outputs": []
    },
    {
     "cell_type": "code",
     "collapsed": false,
     "input": [
      "job.ping()"
     ],
     "language": "python",
     "metadata": {},
     "outputs": [
      {
       "metadata": {},
       "output_type": "pyout",
       "prompt_number": 35,
       "text": [
        "{u'all_judgments': 0,\n",
        " u'all_units': 250,\n",
        " u'completed_gold_estimate': 0,\n",
        " u'completed_non_gold_estimate': 0,\n",
        " u'completed_units_estimate': 0,\n",
        " u'golden_units': 50,\n",
        " u'needed_judgments': 0,\n",
        " u'ordered_units': 0,\n",
        " u'tainted_judgments': 0}"
       ]
      }
     ],
     "prompt_number": 35
    }
   ],
   "metadata": {}
  }
 ]
}