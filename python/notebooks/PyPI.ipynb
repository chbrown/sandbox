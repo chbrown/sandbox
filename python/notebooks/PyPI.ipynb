{
 "metadata": {
  "name": "",
  "signature": "sha256:f6ec00fec2432121ab502fb294abbd2edb4f17b522f7b4aabbee4de5e98bb1bd"
 },
 "nbformat": 3,
 "nbformat_minor": 0,
 "worksheets": [
  {
   "cells": [
    {
     "cell_type": "code",
     "collapsed": false,
     "input": [
      "import xmlrpclib\n",
      "import pprint"
     ],
     "language": "python",
     "metadata": {},
     "outputs": [],
     "prompt_number": 32
    },
    {
     "cell_type": "code",
     "collapsed": false,
     "input": [
      "client = xmlrpclib.ServerProxy('http://pypi.python.org/pypi')"
     ],
     "language": "python",
     "metadata": {},
     "outputs": [],
     "prompt_number": 33
    },
    {
     "cell_type": "code",
     "collapsed": false,
     "input": [
      "client.system.listMethods()"
     ],
     "language": "python",
     "metadata": {},
     "outputs": [
      {
       "metadata": {},
       "output_type": "pyout",
       "prompt_number": 6,
       "text": [
        "['browse',\n",
        " 'changed_packages',\n",
        " 'changelog',\n",
        " 'changelog_last_serial',\n",
        " 'changelog_since_serial',\n",
        " 'list_packages',\n",
        " 'list_packages_with_serial',\n",
        " 'package_data',\n",
        " 'package_hosting_mode',\n",
        " 'package_releases',\n",
        " 'package_roles',\n",
        " 'package_urls',\n",
        " 'post_cheesecake_for_release',\n",
        " 'release_data',\n",
        " 'release_downloads',\n",
        " 'release_urls',\n",
        " 'search',\n",
        " 'system.listMethods',\n",
        " 'system.methodHelp',\n",
        " 'system.methodSignature',\n",
        " 'system.multicall',\n",
        " 'top_packages',\n",
        " 'updated_releases',\n",
        " 'user_packages']"
       ]
      }
     ],
     "prompt_number": 6
    },
    {
     "cell_type": "code",
     "collapsed": false,
     "input": [
      "client.top_packages()[0:10]"
     ],
     "language": "python",
     "metadata": {},
     "outputs": [
      {
       "metadata": {},
       "output_type": "pyout",
       "prompt_number": 8,
       "text": [
        "[['setuptools', 32015173],\n",
        " ['distribute', 27800129],\n",
        " ['certifi', 22418252],\n",
        " ['virtualenv', 22287453],\n",
        " ['wincertstore', 21697306],\n",
        " ['requests', 19621381],\n",
        " ['boto', 18639009],\n",
        " ['lxml', 17423736],\n",
        " ['pip', 17397176],\n",
        " ['six', 14915927]]"
       ]
      }
     ],
     "prompt_number": 8
    },
    {
     "cell_type": "code",
     "collapsed": false,
     "input": [
      "current_version = client.package_releases('crowdflower')\n",
      "print 'current_version', current_version"
     ],
     "language": "python",
     "metadata": {},
     "outputs": [
      {
       "output_type": "stream",
       "stream": "stdout",
       "text": [
        "current_version ['0.0.10']\n"
       ]
      }
     ],
     "prompt_number": 31
    },
    {
     "cell_type": "code",
     "collapsed": false,
     "input": [
      "versions = client.package_releases('crowdflower', True)\n",
      "print 'versions', versions"
     ],
     "language": "python",
     "metadata": {},
     "outputs": [
      {
       "output_type": "stream",
       "stream": "stdout",
       "text": [
        "versions ['0.0.10', '0.0.9', '0.0.8', '0.0.7', '0.0.6', '0.0.5', '0.0.4', '0.0.3', '0.0.2']\n"
       ]
      }
     ],
     "prompt_number": 30
    },
    {
     "cell_type": "code",
     "collapsed": false,
     "input": [
      "print client.system.methodHelp('release_downloads')\n",
      "print client.system.methodSignature('release_downloads')"
     ],
     "language": "python",
     "metadata": {},
     "outputs": [
      {
       "output_type": "stream",
       "stream": "stdout",
       "text": [
        "Return download count for given release.\n",
        "signatures not supported"
       ]
      },
      {
       "output_type": "stream",
       "stream": "stdout",
       "text": [
        "\n"
       ]
      }
     ],
     "prompt_number": 38
    },
    {
     "cell_type": "code",
     "collapsed": false,
     "input": [
      "client.package_roles('crowdflower')"
     ],
     "language": "python",
     "metadata": {},
     "outputs": [
      {
       "metadata": {},
       "output_type": "pyout",
       "prompt_number": 23,
       "text": [
        "[['Owner', 'chbrown']]"
       ]
      }
     ],
     "prompt_number": 23
    },
    {
     "cell_type": "code",
     "collapsed": false,
     "input": [
      "client.user_packages('chbrown')"
     ],
     "language": "python",
     "metadata": {},
     "outputs": [
      {
       "metadata": {},
       "output_type": "pyout",
       "prompt_number": 24,
       "text": [
        "[['Owner', 'twilight'],\n",
        " ['Owner', 'filesequence'],\n",
        " ['Owner', 'pi'],\n",
        " ['Owner', 'viz'],\n",
        " ['Owner', 'argv'],\n",
        " ['Owner', 'crowdflower']]"
       ]
      }
     ],
     "prompt_number": 24
    },
    {
     "cell_type": "code",
     "collapsed": false,
     "input": [
      "for version in sorted(versions):\n",
      "    print client.release_downloads('crowdflower', version)"
     ],
     "language": "python",
     "metadata": {},
     "outputs": [
      {
       "output_type": "stream",
       "stream": "stdout",
       "text": [
        "[['crowdflower-0.0.10.tar.gz', 31]]\n",
        "[['crowdflower-0.0.2.tar.gz', 391]]"
       ]
      },
      {
       "output_type": "stream",
       "stream": "stdout",
       "text": [
        "\n",
        "[['crowdflower-0.0.3.tar.gz', 402]]"
       ]
      },
      {
       "output_type": "stream",
       "stream": "stdout",
       "text": [
        "\n",
        "[['crowdflower-0.0.4.tar.gz', 382]]"
       ]
      },
      {
       "output_type": "stream",
       "stream": "stdout",
       "text": [
        "\n",
        "[['crowdflower-0.0.5.tar.gz', 342]]"
       ]
      },
      {
       "output_type": "stream",
       "stream": "stdout",
       "text": [
        "\n",
        "[['crowdflower-0.0.6.tar.gz', 310]]"
       ]
      },
      {
       "output_type": "stream",
       "stream": "stdout",
       "text": [
        "\n",
        "[['crowdflower-0.0.7.tar.gz', 280]]"
       ]
      },
      {
       "output_type": "stream",
       "stream": "stdout",
       "text": [
        "\n",
        "[['crowdflower-0.0.8.tar.gz', 256]]"
       ]
      },
      {
       "output_type": "stream",
       "stream": "stdout",
       "text": [
        "\n",
        "[['crowdflower-0.0.9.tar.gz', 219]]"
       ]
      },
      {
       "output_type": "stream",
       "stream": "stdout",
       "text": [
        "\n"
       ]
      }
     ],
     "prompt_number": 36
    },
    {
     "cell_type": "code",
     "collapsed": false,
     "input": [],
     "language": "python",
     "metadata": {},
     "outputs": []
    }
   ],
   "metadata": {}
  }
 ]
}