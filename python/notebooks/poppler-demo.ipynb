{
 "metadata": {
  "name": "",
  "signature": "sha256:083b01cf70847235802f7efab0a5f3eaa4482793327c523781855ebfe1646ad1"
 },
 "nbformat": 3,
 "nbformat_minor": 0,
 "worksheets": [
  {
   "cells": [
    {
     "cell_type": "code",
     "collapsed": false,
     "input": [
      "import popplerqt4"
     ],
     "language": "python",
     "metadata": {},
     "outputs": [],
     "prompt_number": 2
    },
    {
     "cell_type": "code",
     "collapsed": false,
     "input": [
      "d = popplerqt4.Poppler.Document.load('/Users/chbrown/work/tmp/pdfconv/nakassis.pdf')"
     ],
     "language": "python",
     "metadata": {},
     "outputs": [],
     "prompt_number": 6
    },
    {
     "cell_type": "code",
     "collapsed": false,
     "input": [
      "d.pageMode()"
     ],
     "language": "python",
     "metadata": {},
     "outputs": [
      {
       "metadata": {},
       "output_type": "pyout",
       "prompt_number": 7,
       "text": [
        "0"
       ]
      }
     ],
     "prompt_number": 7
    },
    {
     "cell_type": "code",
     "collapsed": false,
     "input": [
      "dir(d)"
     ],
     "language": "python",
     "metadata": {},
     "outputs": [
      {
       "metadata": {},
       "output_type": "pyout",
       "prompt_number": 8,
       "text": [
        "['AcroForm',\n",
        " 'Antialiasing',\n",
        " 'ArthurBackend',\n",
        " 'FormType',\n",
        " 'FullScreen',\n",
        " 'NoForm',\n",
        " 'NoLayout',\n",
        " 'OneColumn',\n",
        " 'OverprintPreview',\n",
        " 'PageLayout',\n",
        " 'PageMode',\n",
        " 'RenderBackend',\n",
        " 'RenderHint',\n",
        " 'RenderHints',\n",
        " 'SinglePage',\n",
        " 'SplashBackend',\n",
        " 'TextAntialiasing',\n",
        " 'TextHinting',\n",
        " 'TextSlightHinting',\n",
        " 'ThinLineShape',\n",
        " 'ThinLineSolid',\n",
        " 'TwoColumnLeft',\n",
        " 'TwoColumnRight',\n",
        " 'TwoPageLeft',\n",
        " 'TwoPageRight',\n",
        " 'UseAttach',\n",
        " 'UseNone',\n",
        " 'UseOC',\n",
        " 'UseOutlines',\n",
        " 'UseThumbs',\n",
        " 'XfaForm',\n",
        " '__class__',\n",
        " '__delattr__',\n",
        " '__dict__',\n",
        " '__doc__',\n",
        " '__format__',\n",
        " '__getattribute__',\n",
        " '__hash__',\n",
        " '__init__',\n",
        " '__module__',\n",
        " '__new__',\n",
        " '__reduce__',\n",
        " '__reduce_ex__',\n",
        " '__repr__',\n",
        " '__setattr__',\n",
        " '__sizeof__',\n",
        " '__str__',\n",
        " '__subclasshook__',\n",
        " '__weakref__',\n",
        " 'availableRenderBackends',\n",
        " 'colorDisplayProfile',\n",
        " 'colorRgbProfile',\n",
        " 'date',\n",
        " 'embeddedFiles',\n",
        " 'fontData',\n",
        " 'fonts',\n",
        " 'formType',\n",
        " 'getPdfId',\n",
        " 'getPdfVersion',\n",
        " 'hasEmbeddedFiles',\n",
        " 'hasOptionalContent',\n",
        " 'info',\n",
        " 'infoKeys',\n",
        " 'isEncrypted',\n",
        " 'isLinearized',\n",
        " 'isLocked',\n",
        " 'linkDestination',\n",
        " 'load',\n",
        " 'loadFromData',\n",
        " 'metadata',\n",
        " 'newFontIterator',\n",
        " 'numPages',\n",
        " 'okToAddNotes',\n",
        " 'okToAssemble',\n",
        " 'okToChange',\n",
        " 'okToCopy',\n",
        " 'okToCreateFormFields',\n",
        " 'okToExtractForAccessibility',\n",
        " 'okToFillForm',\n",
        " 'okToPrint',\n",
        " 'okToPrintHighRes',\n",
        " 'optionalContentModel',\n",
        " 'page',\n",
        " 'pageLayout',\n",
        " 'pageMode',\n",
        " 'paperColor',\n",
        " 'pdfConverter',\n",
        " 'psConverter',\n",
        " 'renderBackend',\n",
        " 'renderHints',\n",
        " 'scripts',\n",
        " 'setColorDisplayProfile',\n",
        " 'setColorDisplayProfileName',\n",
        " 'setPaperColor',\n",
        " 'setRenderBackend',\n",
        " 'setRenderHint',\n",
        " 'toc',\n",
        " 'unlock']"
       ]
      }
     ],
     "prompt_number": 8
    },
    {
     "cell_type": "code",
     "collapsed": false,
     "input": [
      "page = d.page(4)"
     ],
     "language": "python",
     "metadata": {},
     "outputs": [],
     "prompt_number": 9
    },
    {
     "cell_type": "code",
     "collapsed": false,
     "input": [
      "t1 = page.textList()[0]"
     ],
     "language": "python",
     "metadata": {},
     "outputs": [],
     "prompt_number": 10
    },
    {
     "cell_type": "code",
     "collapsed": false,
     "input": [
      "t1.text(), t1.boundingBox(), t1.charBoundingBox(1), t1.hasSpaceAfter(), t1.nextWord()"
     ],
     "language": "python",
     "metadata": {},
     "outputs": [
      {
       "metadata": {},
       "output_type": "pyout",
       "prompt_number": 11,
       "text": [
        "(PyQt4.QtCore.QString(u'Dissertation'),\n",
        " PyQt4.QtCore.QRectF(90.0, 36.352560000000004, 47.55672000000001, 10.892879999999998),\n",
        " PyQt4.QtCore.QRectF(97.10448, 36.352560000000004, 2.735520000000008, 10.892879999999998),\n",
        " True,\n",
        " <popplerqt4.TextBox at 0x1098b9b00>)"
       ]
      }
     ],
     "prompt_number": 11
    },
    {
     "cell_type": "code",
     "collapsed": false,
     "input": [
      "text1 = t1.text()"
     ],
     "language": "python",
     "metadata": {},
     "outputs": [],
     "prompt_number": 12
    },
    {
     "cell_type": "code",
     "collapsed": false,
     "input": [
      "# http://www.cs.berkeley.edu/~dlwh/papers/spanparser.pdf\n",
      "spanparser_filepath = '/Users/chbrown/work/tmp/pdfconv/spanparser.pdf'\n",
      "spanparser_doc = popplerqt4.Poppler.Document.load(spanparser_filepath)\n",
      "print '# pages:', spanparser_doc.numPages()"
     ],
     "language": "python",
     "metadata": {},
     "outputs": [
      {
       "output_type": "stream",
       "stream": "stdout",
       "text": [
        " # pages: 10\n"
       ]
      }
     ],
     "prompt_number": 15
    },
    {
     "cell_type": "code",
     "collapsed": false,
     "input": [
      "spanparser_page = spanparser_doc.page(0)\n",
      "spanparser_textlist = spanparser_page.textList()"
     ],
     "language": "python",
     "metadata": {},
     "outputs": [],
     "prompt_number": 16
    },
    {
     "cell_type": "code",
     "collapsed": false,
     "input": [
      "def body(textboxes):\n",
      "    for textbox in textboxes:\n",
      "        yield unicode(textbox.text())\n",
      "        if textbox.hasSpaceAfter():\n",
      "            yield ' '\n",
      "\n",
      "print ''.join(body(spanparser_textlist))"
     ],
     "language": "python",
     "metadata": {},
     "outputs": [
      {
       "output_type": "stream",
       "stream": "stdout",
       "text": [
        "Less Grammar, More FeaturesDavid HallGreg DurrettDan KleinComputer Science DivisionUniversity of California, Berkeley{dlwh,gdurrett,klein}@cs.berkeley.eduAbstractWe present a parser that relies primar-ily on extracting information directly fromsurface spans rather than on propagat-ing information through enriched gram-mar structure. For example, instead of cre-ating separate grammar symbols to markthe definiteness of an NP, our parser mightinstead capture the same information fromthe first word of the NP. Moving contextout of the grammar and onto surface fea-tures can greatly simplify the structuralcomponent of the parser: because so manydeep syntactic cues have surface reflexes,our system can still parse accurately withcontext-free backbones as minimal as X-bar grammars. Keeping the structuralbackbone simple and moving features tothe surface also allows easy adaptationto new languages and even to new tasks.On the SPMRL 2013 multilingual con-stituency parsing shared task (Seddah etal., 2013), our system outperforms the topsingle parser system of Bj\u00a8orkelund et al.(2013) on a range of languages. In addi-tion, despite being designed for syntacticanalysis, our system also achieves state-of-the-art numbers on the structural senti-ment task of Socher et al. (2013). Finally,we show that, in both syntactic parsing andsentiment analysis, many broad linguistictrends can be captured via surface features.1IntroductionNa\u00a8\u0131ve context-free grammars, such as those em-bodied by standard treebank annotations, do notparse well because their symbols have too littlecontext to constrain their syntactic behavior. Forexample, to PPs usually attach to verbs and ofPPs usually attach to nouns, but a context-free PPsymbol can equally well attach to either. Muchof the last few decades of parsing research hastherefore focused on propagating contextual in-formation from the leaves of the tree to inter-nal nodes. For example, head lexicalization (Eis-ner, 1996; Collins, 1997; Charniak, 1997), struc-tural annotation (Johnson, 1998; Klein and Man-ning, 2003), and state-splitting (Matsuzaki et al.,2005; Petrov et al., 2006) are all designed to takecoarse symbols like PP and decorate them withadditional context. The underlying reason thatsuch propagation is even needed is that PCFGparsers score trees based on local configurationsonly, and any information that is not threadedthrough the tree becomes inaccessible to the scor-ing function. There have been non-local ap-proaches as well, such as tree-substitution parsers(Bod, 1993; Sima\u2019an, 2000), neural net parsers(Henderson, 2003), and rerankers (Collins andKoo, 2005; Charniak and Johnson, 2005; Huang,2008). These non-local approaches can actuallygo even further in enriching the grammar\u2019s struc-tural complexity by coupling larger domains invarious ways, though their non-locality generallycomplicates inference.In this work, we instead try to minimize thestructural complexity of the grammar by movingas much context as possible onto local surface fea-tures. We examine the position that grammarsshould not propagate any information that is avail-able from surface strings, since a discriminativeparser can access that information directly. Wetherefore begin with a minimal grammar and it-eratively augment it with rich input features thatdo not enrich the context-free backbone. Previ-ous work has also used surface features in theirparsers, but the focus has been on machine learn-ing methods (Taskar et al., 2004), latent annota-tions (Petrov and Klein, 2008a; Petrov and Klein,2008b), or implementation (Finkel et al., 2008).By contrast, we investigate the extent to which\n"
       ]
      }
     ],
     "prompt_number": 19
    }
   ],
   "metadata": {}
  }
 ]
}